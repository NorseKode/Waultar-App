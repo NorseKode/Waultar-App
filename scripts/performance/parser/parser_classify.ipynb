{
 "cells": [
  {
   "cell_type": "markdown",
   "metadata": {},
   "source": [
    "# Performance of Tree Parser"
   ]
  },
  {
   "cell_type": "markdown",
   "metadata": {},
   "source": [
    "## Setup"
   ]
  },
  {
   "cell_type": "code",
   "execution_count": 29,
   "metadata": {},
   "outputs": [],
   "source": [
    "import json\n",
    "\n",
    "# parseData = json.load(open('1648738766832-Tree Parser Performance Data.json'))\n",
    "parseData = json.load(open('2-1648740761497-Tree Parser Performance Data.json'))"
   ]
  },
  {
   "cell_type": "markdown",
   "metadata": {},
   "source": [
    "## Summary"
   ]
  },
  {
   "cell_type": "code",
   "execution_count": 31,
   "metadata": {},
   "outputs": [
    {
     "name": "stdout",
     "output_type": "stream",
     "text": [
      "Tree Parser took 4.875 seconds to parse 94 files\n",
      "\tparsePath function used 0.9854358974358974%, but it is the top function so it makes sense\n",
      "\tgetFromFolderName function used 0.025025641025641025% and was called 94 times\n",
      "\tparseName function used 0.07158974358974358% and was called 94 times\n",
      "\tcleanFileName function used 0.009025641025641025% and was called 94 times\n",
      "\taddCategoryTotalTime function used 0.8533333333333334% and was called 94 times\n"
     ]
    }
   ],
   "source": [
    "totalTime = parseData[\"elapsedTime\"]\n",
    "getFromFolderNameCount = 0\n",
    "getFromFolderNameTotalTime = 0\n",
    "parsePathCount = 0\n",
    "parsePathTotalTime = 0\n",
    "parseNameCount = 0\n",
    "parseNameTotalTime = 0\n",
    "addCategoryCount = 0\n",
    "addCategoryTotalTime = 0\n",
    "cleanFileNameCount = 0\n",
    "cleanFileNameTotalTime = 0\n",
    "\n",
    "for point in parseData[\"childs\"]:\n",
    "    if point[\"key\"] == \"getFromFolderName\":\n",
    "        getFromFolderNameCount = getFromFolderNameCount + 1\n",
    "        getFromFolderNameTotalTime = getFromFolderNameTotalTime + point[\"elapsedTime\"] \n",
    "    if point[\"key\"] == \"parsePath\" :\n",
    "        parsePathCount = parsePathCount + 1\n",
    "        parsePathTotalTime = parsePathTotalTime + point[\"elapsedTime\"]\n",
    "    if point[\"key\"] == \"parseName\":\n",
    "        parseNameCount = parseNameCount + 1\n",
    "        parseNameTotalTime = parseNameTotalTime + point[\"elapsedTime\"]\n",
    "    if point[\"key\"] == \"addCategory\":\n",
    "        addCategoryCount = addCategoryCount + 1\n",
    "        addCategoryTotalTime = addCategoryTotalTime + point[\"elapsedTime\"]\n",
    "    if point[\"key\"] == \"cleanFileName\":\n",
    "        cleanFileNameCount = cleanFileNameCount + 1\n",
    "        cleanFileNameTotalTime = cleanFileNameTotalTime + point[\"elapsedTime\"]\n",
    "\n",
    "print(f\"Tree Parser took {totalTime / 1000} seconds to parse {parsePathCount} files\")\n",
    "print(f\"\\tparsePath function used {parsePathTotalTime / totalTime}%, but it is the top function so it makes sense\")\n",
    "print(f\"\\tgetFromFolderName function used {getFromFolderNameTotalTime / totalTime}% and was called {getFromFolderNameCount} times\")\n",
    "print(f\"\\tparseName function used {parseNameTotalTime / totalTime}% and was called {parseNameCount} times\")\n",
    "print(f\"\\tcleanFileName function used {cleanFileNameTotalTime / totalTime}% and was called {cleanFileNameCount} times\")\n",
    "print(f\"\\taddCategoryTotalTime function used {addCategoryTotalTime / totalTime}% and was called {addCategoryCount} times\")"
   ]
  }
 ],
 "metadata": {
  "interpreter": {
   "hash": "f7e022b67859ae4a791bbcc1c75bde8b3a5bef3b9abb0060fdb4399d638fb2f6"
  },
  "kernelspec": {
   "display_name": "Python 3.9.12 64-bit",
   "language": "python",
   "name": "python3"
  },
  "language_info": {
   "codemirror_mode": {
    "name": "ipython",
    "version": 3
   },
   "file_extension": ".py",
   "mimetype": "text/x-python",
   "name": "python",
   "nbconvert_exporter": "python",
   "pygments_lexer": "ipython3",
   "version": "3.9.12"
  },
  "orig_nbformat": 4
 },
 "nbformat": 4,
 "nbformat_minor": 2
}
