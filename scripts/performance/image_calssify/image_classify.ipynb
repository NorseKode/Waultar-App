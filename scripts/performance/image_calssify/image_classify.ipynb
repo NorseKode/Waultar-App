{
 "cells": [
  {
   "cell_type": "markdown",
   "metadata": {},
   "source": [
    "# Performance of Image classify"
   ]
  },
  {
   "cell_type": "markdown",
   "metadata": {},
   "source": [
    "## Setup"
   ]
  },
  {
   "cell_type": "code",
   "execution_count": 13,
   "metadata": {},
   "outputs": [],
   "source": [
    "import json\n",
    "\n",
    "step1 = json.load(open('step1-1648721225819-Tagging of images only total.json'))\n",
    "step100 = json.load(open('step100-1648721448679-Tagging of images only total.json'))\n",
    "allTagged = json.load(open('1648726798742-Tagging of images all.json'))"
   ]
  },
  {
   "cell_type": "markdown",
   "metadata": {},
   "source": [
    "## Is a pagination step of 100 better that 1?"
   ]
  },
  {
   "cell_type": "code",
   "execution_count": 10,
   "metadata": {},
   "outputs": [
    {
     "name": "stdout",
     "output_type": "stream",
     "text": [
      "Time it took with step = 1: 102.755 seconds\n",
      "Time it took with step = 100: 97.955 seconds\n",
      "Hence using a step of 100 save 4.8 seconds\n",
      "So we'll just use 1 step for a better user experience\n"
     ]
    }
   ],
   "source": [
    "totalTimeStep1 = step1[\"elapsedTime\"]\n",
    "totalTimeStep100 = step100[\"elapsedTime\"]\n",
    "\n",
    "print(f\"Time it took with step = 1: {totalTimeStep1 / 1000} seconds\")\n",
    "print(f\"Time it took with step = 100: {totalTimeStep100 / 1000} seconds\")\n",
    "print(f\"Hence using a step of 100 save {(totalTimeStep1 - totalTimeStep100) / 1000} seconds\")\n",
    "print(\"So we'll just use 1 step for a better user experience\")"
   ]
  },
  {
   "cell_type": "markdown",
   "metadata": {},
   "source": [
    "## How long does prediction take?"
   ]
  },
  {
   "cell_type": "code",
   "execution_count": 21,
   "metadata": {},
   "outputs": [
    {
     "name": "stdout",
     "output_type": "stream",
     "text": [
      "Image tagging took 99.464 seconds\n",
      "\tWith 366 images tagged in 96.13 second, representing 0.9664803345934208% of the time used\n",
      "\tAnd an average tagging time of 0.2626502732240437 seconds per image\n",
      "Setup of classifier took 11 ms\n"
     ]
    }
   ],
   "source": [
    "totalTime = allTagged[\"elapsedTime\"]\n",
    "setupClassifierTime = 0\n",
    "imagesTagged = []\n",
    "summedImagesTaggedTime = 0\n",
    "\n",
    "for point in allTagged[\"childs\"]:\n",
    "    if point[\"key\"] == \"Classify Image\":\n",
    "        summedImagesTaggedTime = summedImagesTaggedTime + point[\"elapsedTime\"]\n",
    "        imagesTagged.append(point)\n",
    "    if point[\"key\"] == \"Setup of classifier\":\n",
    "        setupClassifierTime = point[\"elapsedTime\"]\n",
    "\n",
    "print(f\"Image tagging took {totalTime / 1000} seconds\")\n",
    "print(f\"\\tWith {len(imagesTagged)} images tagged in {summedImagesTaggedTime / 1000} second, representing {summedImagesTaggedTime / totalTime}% of the time used\")\n",
    "print(f\"\\tAnd an average tagging time of {(summedImagesTaggedTime / len(imagesTagged)) / 1000} seconds per image\")\n",
    "print(f\"Setup of classifier took {setupClassifierTime} ms\")"
   ]
  }
 ],
 "metadata": {
  "interpreter": {
   "hash": "f7e022b67859ae4a791bbcc1c75bde8b3a5bef3b9abb0060fdb4399d638fb2f6"
  },
  "kernelspec": {
   "display_name": "Python 3.9.12 64-bit",
   "language": "python",
   "name": "python3"
  },
  "language_info": {
   "codemirror_mode": {
    "name": "ipython",
    "version": 3
   },
   "file_extension": ".py",
   "mimetype": "text/x-python",
   "name": "python",
   "nbconvert_exporter": "python",
   "pygments_lexer": "ipython3",
   "version": "3.9.12"
  },
  "orig_nbformat": 4
 },
 "nbformat": 4,
 "nbformat_minor": 2
}
