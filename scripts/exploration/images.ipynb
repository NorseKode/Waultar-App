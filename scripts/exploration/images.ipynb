{
 "cells": [
  {
   "cell_type": "markdown",
   "metadata": {},
   "source": [
    "# Images Exploration"
   ]
  },
  {
   "cell_type": "markdown",
   "metadata": {},
   "source": [
    "## Setup"
   ]
  },
  {
   "cell_type": "code",
   "execution_count": 14,
   "metadata": {},
   "outputs": [
    {
     "name": "stdout",
     "output_type": "stream",
     "text": [
      "1030\n",
      "3156\n",
      "4871\n",
      "24\n"
     ]
    }
   ],
   "source": [
    "import json\n",
    "import sys\n",
    "from pandas import DataFrame\n",
    "import matplotlib.pyplot as plt\n",
    "from sklearn.cluster import KMeans\n",
    "import numpy as np\n",
    "# from datasketch import MinHash, MinHashLSH\n",
    "\n",
    "plt.rcParams[\"figure.figsize\"] = [20, 10]\n",
    "\n",
    "pathToFile = \"C:\\\\Users\\\\lukas\\\\Documents\\\\Waultar\\\\performance\\\\\"\n",
    "imagesFileName = \"images.json\"\n",
    "dataPointFileName = \"dataPoints.json\"\n",
    "categoriesFileName = \"dataCategories.json\"\n",
    "\n",
    "imagesData = json.load(open(pathToFile + imagesFileName, encoding=\"utf8\"))\n",
    "categoriesData = json.load(open(pathToFile + categoriesFileName, encoding=\"utf8\"))\n",
    "dataPointsData = json.load(open(pathToFile + dataPointFileName, encoding=\"utf8\"))\n",
    "\n",
    "gif = len(list(filter(lambda image: \".gif\" in image[\"uri\"], imagesData)))\n",
    "png = len(list(filter(lambda image: \".png\" in image[\"uri\"], imagesData)))\n",
    "jpg = len(list(filter(lambda image: \".jpg\" in image[\"uri\"], imagesData)))\n",
    "http = len(list(filter(lambda image: \"http\" in image[\"uri\"], imagesData)))\n",
    "\n",
    "print(gif)\n",
    "print(png)\n",
    "print(jpg)\n",
    "print(http)\n"
   ]
  },
  {
   "cell_type": "code",
   "execution_count": 17,
   "metadata": {},
   "outputs": [
    {
     "data": {
      "text/plain": [
       "7383"
      ]
     },
     "execution_count": 17,
     "metadata": {},
     "output_type": "execute_result"
    }
   ],
   "source": [
    "categories = []\n",
    "\n",
    "for category in categoriesData:\n",
    "    categories.append({'id': category[\"id\"], 'category': category[\"category\"]})\n",
    "\n",
    "messaging = list(filter(lambda category: \"Messag\" in category[\"category\"], categories))[0]\n",
    "\n",
    "idsOfMessaging = []\n",
    "for point in dataPointsData:\n",
    "    if point[\"category\"] == messaging[\"id\"]:\n",
    "        idsOfMessaging.append(point[\"id\"])\n",
    "\n",
    "count = 0\n",
    "for image in imagesData:\n",
    "    if image[\"relatedDatapoint\"] in idsOfMessaging:\n",
    "        count = count + 1\n",
    "\n",
    "count"
   ]
  }
 ],
 "metadata": {
  "interpreter": {
   "hash": "18e0d73ea3989965db46af3cfa35c5edb47d968f3daecdab91a2c44fa0b0d249"
  },
  "kernelspec": {
   "display_name": "Python 3.9.12 64-bit (windows store)",
   "language": "python",
   "name": "python3"
  },
  "language_info": {
   "codemirror_mode": {
    "name": "ipython",
    "version": 3
   },
   "file_extension": ".py",
   "mimetype": "text/x-python",
   "name": "python",
   "nbconvert_exporter": "python",
   "pygments_lexer": "ipython3",
   "version": "3.9.12"
  },
  "orig_nbformat": 4
 },
 "nbformat": 4,
 "nbformat_minor": 2
}
