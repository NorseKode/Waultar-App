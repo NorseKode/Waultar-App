{
 "cells": [
  {
   "cell_type": "markdown",
   "metadata": {},
   "source": [
    "# Results"
   ]
  },
  {
   "cell_type": "code",
   "execution_count": 2,
   "metadata": {},
   "outputs": [],
   "source": [
    "import json\n",
    "\n",
    "\n",
    "def readData(dataPath):\n",
    "    jsonData = json.load(open(dataPath, encoding=\"utf8\"))\n",
    "\n",
    "    for data in jsonData:\n",
    "        count = 0\n",
    "        summ = 0\n",
    "\n",
    "        for reading in data[\"readings\"]:\n",
    "            count = count + 1\n",
    "            summ = summ + reading\n",
    "\n",
    "        print(f\"Text search in {data['print name']} with search string {data['search string']} took an average of {summ / count / 1000000} seconds\")"
   ]
  },
  {
   "cell_type": "markdown",
   "metadata": {},
   "source": [
    "## Text Search"
   ]
  },
  {
   "cell_type": "code",
   "execution_count": 22,
   "metadata": {},
   "outputs": [
    {
     "name": "stdout",
     "output_type": "stream",
     "text": [
      "Text search in Search in 1 big profile with search string hvordan går det took an average of 0.07959 seconds\n",
      "Text search in Search in 2 big profiles with search string hvordan går det took an average of 0.0294058 seconds\n"
     ]
    }
   ],
   "source": [
    "readData(\"text_search_performance.json\")"
   ]
  },
  {
   "cell_type": "markdown",
   "metadata": {},
   "source": [
    "## Image Search"
   ]
  },
  {
   "cell_type": "code",
   "execution_count": 5,
   "metadata": {},
   "outputs": [
    {
     "name": "stdout",
     "output_type": "stream",
     "text": [
      "Text search in Instragram 365 images with search string computer, note took an average of 0.0005378571428571429 seconds\n",
      "Text search in Search Instagram 365 and Facebook ~4000 that isn't tagged with search string computer, note took an average of 0.0005758571428571429 seconds\n"
     ]
    }
   ],
   "source": [
    "readData(\"image_search_performance.json\")"
   ]
  }
 ],
 "metadata": {
  "interpreter": {
   "hash": "63fd5069d213b44bf678585dea6b12cceca9941eaf7f819626cde1f2670de90d"
  },
  "kernelspec": {
   "display_name": "Python 3.9.2 64-bit",
   "language": "python",
   "name": "python3"
  },
  "language_info": {
   "codemirror_mode": {
    "name": "ipython",
    "version": 3
   },
   "file_extension": ".py",
   "mimetype": "text/x-python",
   "name": "python",
   "nbconvert_exporter": "python",
   "pygments_lexer": "ipython3",
   "version": "3.9.2"
  },
  "orig_nbformat": 4
 },
 "nbformat": 4,
 "nbformat_minor": 2
}
