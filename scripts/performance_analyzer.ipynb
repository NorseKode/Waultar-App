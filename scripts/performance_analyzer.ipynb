{
 "cells": [
  {
   "cell_type": "markdown",
   "metadata": {},
   "source": [
    "# Performance Analysis\n",
    "A collection of methods to analyze the performance data the program produces"
   ]
  },
  {
   "cell_type": "markdown",
   "metadata": {},
   "source": [
    "## Setup and importing of data"
   ]
  },
  {
   "cell_type": "code",
   "execution_count": 1,
   "metadata": {},
   "outputs": [],
   "source": [
    "import json\n",
    "\n",
    "data = json.load(open('performance/1648555536667-Parsing and Extracting Synchronously.json'))"
   ]
  },
  {
   "cell_type": "markdown",
   "metadata": {},
   "source": [
    "## Execution time of extraction"
   ]
  },
  {
   "cell_type": "code",
   "execution_count": 2,
   "metadata": {},
   "outputs": [
    {
     "name": "stdout",
     "output_type": "stream",
     "text": [
      "Total elapsed time: 10557 ms\n",
      "Extraction took 0.15515771526001704% of the total time with 694 files\n",
      "Parse took: 0.4264469072653216% of the total time with 94 parsed files\n"
     ]
    }
   ],
   "source": [
    "count = 0\n",
    "extractPoints = []\n",
    "parsePoints = []\n",
    "totalTimeUsed = data[\"elapsedTime\"]\n",
    "extractionTotalTime = 0\n",
    "parseTotalTime = 0\n",
    "\n",
    "for point in data[\"childs\"]:\n",
    "    if point[\"key\"] == \"Extracting files\":\n",
    "        extractionTotalTime = point[\"elapsedTime\"]\n",
    "        for extractPoint in point[\"childs\"]:\n",
    "            extractPoints.append(extractPoint)\n",
    "    elif point[\"key\"] == \"Parsing of files\":\n",
    "        parseTotalTime = point[\"elapsedTime\"]\n",
    "        for parsePoint in point[\"childs\"]:\n",
    "            parsePoints.append(parsePoint)\n",
    "\n",
    "print(f\"Total elapsed time: {totalTimeUsed} ms\")\n",
    "print(f\"Extraction took {extractionTotalTime/totalTimeUsed}% of the total time with {len(extractPoints)} files\")\n",
    "print(f\"Parse took: {parseTotalTime/totalTimeUsed}% of the total time with {len(parsePoints)} parsed files\")"
   ]
  }
 ],
 "metadata": {
  "interpreter": {
   "hash": "63fd5069d213b44bf678585dea6b12cceca9941eaf7f819626cde1f2670de90d"
  },
  "kernelspec": {
   "display_name": "Python 3.9.2 64-bit",
   "language": "python",
   "name": "python3"
  },
  "language_info": {
   "codemirror_mode": {
    "name": "ipython",
    "version": 3
   },
   "file_extension": ".py",
   "mimetype": "text/x-python",
   "name": "python",
   "nbconvert_exporter": "python",
   "pygments_lexer": "ipython3",
   "version": "3.9.2"
  },
  "orig_nbformat": 4
 },
 "nbformat": 4,
 "nbformat_minor": 2
}
