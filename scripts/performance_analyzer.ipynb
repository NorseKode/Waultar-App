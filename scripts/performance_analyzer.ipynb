{
 "cells": [
  {
   "cell_type": "markdown",
   "metadata": {},
   "source": [
    "# Performance Analysis\n",
    "A collection of methods to analyze the performance data the program produces"
   ]
  },
  {
   "cell_type": "markdown",
   "metadata": {},
   "source": [
    "## Setup and importing of data"
   ]
  },
  {
   "cell_type": "code",
   "execution_count": 2,
   "metadata": {},
   "outputs": [],
   "source": [
    "import json\n",
    "\n",
    "controlData = json.load(open('performance/1648661981843-Only Parsing and Extracting Synchronously.json'))\n",
    "data = json.load(open('performance/1648661535285-Parsing and Extracting Synchronously.json'))"
   ]
  },
  {
   "cell_type": "markdown",
   "metadata": {},
   "source": [
    "## Execution time of extraction"
   ]
  },
  {
   "cell_type": "code",
   "execution_count": 5,
   "metadata": {},
   "outputs": [
    {
     "name": "stdout",
     "output_type": "stream",
     "text": [
      "Control total elapsed time: 124898 ms\n",
      "Measurement took approximately 17390 ms\n",
      "Total elapsed time: 142288 ms\n",
      "Extraction took 0.12310044996717322% of the total time with 7170 files\n",
      "\tSummarized time 15375 ms\n",
      "\tAverage time of: 2.1443514644351462 ms\n",
      "Parse took: 0.5290637159922497% of the total time with 721 parsed files\n",
      "\tSummarized time 66079 ms\n",
      "\tAverage time of: 91.64909847434119 ms\n",
      "Decoded zip files in: 15353 ms\n"
     ]
    }
   ],
   "source": [
    "count = 0\n",
    "extractPoints = []\n",
    "parsePoints = []\n",
    "totalTimeUsed = data[\"elapsedTime\"]\n",
    "controlTotalTimeUsed = controlData[\"elapsedTime\"]\n",
    "extractionTotalTime = 0\n",
    "parseTotalTime = 0\n",
    "decodeTime = 0\n",
    "\n",
    "# Data extration and analysis\n",
    "for point in data[\"childs\"]:\n",
    "    if point[\"key\"] == \"Extracting files\":\n",
    "        extractionTotalTime = point[\"elapsedTime\"]\n",
    "        for extractPoint in point[\"childs\"]:\n",
    "            if extractPoint[\"key\"] == \"Extracted File\":\n",
    "                extractPoints.append(extractPoint)\n",
    "            else:\n",
    "                decodeTime = extractPoint[\"elapsedTime\"]\n",
    "    elif point[\"key\"] == \"Parsing of files\":\n",
    "        parseTotalTime = point[\"elapsedTime\"]\n",
    "        for parsePoint in point[\"childs\"]:\n",
    "            parsePoints.append(parsePoint)\n",
    "\n",
    "print(f\"Control total elapsed time: {controlTotalTimeUsed} ms\")\n",
    "print(f\"Measurement took approximately {totalTimeUsed - controlTotalTimeUsed} ms\")\n",
    "print(f\"Total elapsed time: {totalTimeUsed} ms\")\n",
    "totalTimeUsed = controlTotalTimeUsed\n",
    "print(f\"Extraction took {extractionTotalTime/totalTimeUsed}% of the total time with {len(extractPoints)} files\")\n",
    "print(f\"\\tSummarized time {extractionTotalTime} ms\")\n",
    "print(f\"\\tAverage time of: {extractionTotalTime/len(extractPoints)} ms\")\n",
    "\n",
    "print(f\"Parse took: {parseTotalTime/totalTimeUsed}% of the total time with {len(parsePoints)} parsed files\")\n",
    "print(f\"\\tSummarized time {parseTotalTime} ms\")\n",
    "print(f\"\\tAverage time of: {parseTotalTime/len(parsePoints)} ms\")\n",
    "\n",
    "print(f\"Decoded zip files in: {decodeTime} ms\")"
   ]
  }
 ],
 "metadata": {
  "interpreter": {
   "hash": "63fd5069d213b44bf678585dea6b12cceca9941eaf7f819626cde1f2670de90d"
  },
  "kernelspec": {
   "display_name": "Python 3.9.2 64-bit",
   "language": "python",
   "name": "python3"
  },
  "language_info": {
   "codemirror_mode": {
    "name": "ipython",
    "version": 3
   },
   "file_extension": ".py",
   "mimetype": "text/x-python",
   "name": "python",
   "nbconvert_exporter": "python",
   "pygments_lexer": "ipython3",
   "version": "3.9.12"
  },
  "orig_nbformat": 4
 },
 "nbformat": 4,
 "nbformat_minor": 2
}
